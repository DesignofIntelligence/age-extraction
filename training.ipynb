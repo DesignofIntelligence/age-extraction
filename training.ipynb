{
 "cells": [
  {
   "cell_type": "code",
   "execution_count": 1,
   "metadata": {
    "collapsed": true
   },
   "outputs": [
    {
     "name": "stderr",
     "output_type": "stream",
     "text": [
      "c:\\users\\youss\\pycharmprojects\\age-extraction\\venv\\lib\\site-packages\\numpy\\_distributor_init.py:30: UserWarning: loaded more than 1 DLL from .libs:\n",
      "c:\\users\\youss\\pycharmprojects\\age-extraction\\venv\\lib\\site-packages\\numpy\\.libs\\libopenblas.GK7GX5KEQ4F6UYO3P26ULGBQYHGQO7J4.gfortran-win_amd64.dll\n",
      "c:\\users\\youss\\pycharmprojects\\age-extraction\\venv\\lib\\site-packages\\numpy\\.libs\\libopenblas.WCDJNK7YVMPZQ2ME2ZZHJJRJ3JIKNDB7.gfortran-win_amd64.dll\n",
      "  warnings.warn(\"loaded more than 1 DLL from .libs:\"\n"
     ]
    }
   ],
   "source": [
    "import numpy as np\n",
    "import tensorflow as tf\n",
    "from tensorflow.keras import datasets, layers, models\n",
    "import pandas as pd\n",
    "from matplotlib import pyplot as plt\n",
    "from keras.callbacks import ModelCheckpoint\n",
    "from keras.constraints import maxnorm\n",
    "from loaddata import load_data"
   ]
  },
  {
   "cell_type": "code",
   "execution_count": 2,
   "outputs": [],
   "source": [
    "data, label = load_data()"
   ],
   "metadata": {
    "collapsed": false,
    "pycharm": {
     "name": "#%%\n"
    }
   }
  },
  {
   "cell_type": "code",
   "execution_count": 9,
   "outputs": [],
   "source": [
    "train_data =  np.array(data[:49255])\n",
    "train_labels = np.array(label[:49255])\n",
    "test_data = np.array(data[49255:])\n",
    "test_labels = np.array(label[49255:])"
   ],
   "metadata": {
    "collapsed": false,
    "pycharm": {
     "name": "#%%\n"
    }
   }
  },
  {
   "cell_type": "code",
   "execution_count": null,
   "outputs": [],
   "source": [
    "learning_rate = 0.001\n",
    "epochs = 1\n",
    "batch_size = 32"
   ],
   "metadata": {
    "collapsed": false,
    "pycharm": {
     "name": "#%%\n",
     "is_executing": true
    }
   }
  },
  {
   "cell_type": "code",
   "execution_count": 11,
   "outputs": [],
   "source": [
    "def create_model(learning_rate):\n",
    "    model = models.Sequential()\n",
    "\n",
    "    # Define the first hidden layer with 20 nodes.\n",
    "    # model.add(tf.keras.layers.Dense(units=10,\n",
    "    #                                 activation='softmax',\n",
    "    #                                 name='Hidden1',\n",
    "    #                                 activity_regularizer=regularizers.l2(0.01)\n",
    "    #                                 ))\n",
    "\n",
    "    model.add(layers.Conv2D(32, (3, 3), padding='same', input_shape=(100, 100, 3)))\n",
    "    model.add(layers.Activation('relu'))\n",
    "    model.add(layers.Dropout(0.2))\n",
    "\n",
    "    model.add(layers.BatchNormalization())\n",
    "\n",
    "    model.add(layers.Conv2D(64, (3, 3), padding='same'))\n",
    "    model.add(layers.Activation('relu'))\n",
    "\n",
    "\n",
    "\n",
    "    # model.add(layers.Conv2D(128, (3, 3), padding='same'))\n",
    "    # model.add(layers.Activation('relu'))\n",
    "    # model.add(layers.Dropout(0.2))\n",
    "    # model.add(layers.BatchNormalization())\n",
    "\n",
    "    model.add(layers.Flatten())\n",
    "    model.add(layers.Dropout(0.2))\n",
    "\n",
    "\n",
    "    model.add(layers.Dense(128, kernel_constraint=maxnorm(3)))\n",
    "    model.add(layers.Activation('relu'))\n",
    "    model.add(layers.Dropout(0.2))\n",
    "    model.add(layers.BatchNormalization())\n",
    "\n",
    "    model.add(layers.Dense(1))\n",
    "    model.add(layers.Activation('softmax'))\n",
    "\n",
    "    # model.add(layers.Dense(10))\n",
    "\n",
    "    # checkpoint = ModelCheckpoint('best_model_improved.h5',\n",
    "    #                              monitor='val_loss',\n",
    "    #                              verbose=0,\n",
    "    #                              save_best_only=True,\n",
    "    #                              mode='auto')\n",
    "    model.compile(optimizer=tf.keras.optimizers.RMSprop(lr=learning_rate),\n",
    "                  loss=\"mean_squared_error\",\n",
    "                  metrics=[tf.keras.metrics.RootMeanSquaredError()])\n",
    "\n",
    "    return model\n",
    "\n",
    "\n",
    "def train_model(model, train_images, train_labels, test_images, test_labels, epochs, batch_size=None):\n",
    "    # Split the dataset into features and label.\n",
    "\n",
    "    history = model.fit(train_images, train_labels, batch_size=batch_size,\n",
    "                        epochs=epochs, shuffle=True, validation_data=(test_images, test_labels))\n",
    "\n",
    "    # The list of epochs is stored separately from the rest of history.\n",
    "    epochs = history.epoch\n",
    "\n",
    "    # To track the progression of training, gather a snapshot\n",
    "    # of the model's mean squared error at each epoch.\n",
    "    hist = pd.DataFrame(history.history)\n",
    "\n",
    "    return epochs, hist\n",
    "\n",
    "\n",
    "def plot_curve(epochs, hist):\n",
    "    \"\"\"Plot a curve of one or more classification metrics vs. epoch.\"\"\"\n",
    "    # list_of_metrics should be one of the names shown in:\n",
    "    # https://www.tensorflow.org/tutorials/structured_data/imbalanced_data#define_the_model_and_metrics\n",
    "\n",
    "    plt.figure()\n",
    "    plt.xlabel(\"Epoch\")\n",
    "    plt.ylabel(\"Value\")\n",
    "\n",
    "    # for m in list_of_metrics:\n",
    "    x = hist[\"accuracy\"]\n",
    "    plt.plot(epochs[1:], x[1:], label=\"accuracy\")\n",
    "\n",
    "    plt.show()"
   ],
   "metadata": {
    "collapsed": false,
    "pycharm": {
     "name": "#%%\n"
    }
   }
  },
  {
   "cell_type": "code",
   "execution_count": 12,
   "outputs": [],
   "source": [
    "my_model = create_model(learning_rate)"
   ],
   "metadata": {
    "collapsed": false,
    "pycharm": {
     "name": "#%%\n"
    }
   }
  },
  {
   "cell_type": "code",
   "execution_count": null,
   "outputs": [],
   "source": [
    "epochs, hist = train_model(my_model, train_data, train_labels, test_data, test_labels, epochs, batch_size)"
   ],
   "metadata": {
    "collapsed": false,
    "pycharm": {
     "name": "#%%\n",
     "is_executing": true
    }
   }
  },
  {
   "cell_type": "code",
   "execution_count": null,
   "outputs": [],
   "source": [],
   "metadata": {
    "collapsed": false,
    "pycharm": {
     "name": "#%%\n"
    }
   }
  }
 ],
 "metadata": {
  "kernelspec": {
   "display_name": "Python 3",
   "language": "python",
   "name": "python3"
  },
  "language_info": {
   "codemirror_mode": {
    "name": "ipython",
    "version": 2
   },
   "file_extension": ".py",
   "mimetype": "text/x-python",
   "name": "python",
   "nbconvert_exporter": "python",
   "pygments_lexer": "ipython2",
   "version": "2.7.6"
  }
 },
 "nbformat": 4,
 "nbformat_minor": 0
}